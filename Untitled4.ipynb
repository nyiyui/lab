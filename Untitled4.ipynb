{
 "cells": [
  {
   "cell_type": "code",
   "execution_count": 1,
   "id": "56b0c01a-19d5-4942-888f-4e04fcbd3dd7",
   "metadata": {},
   "outputs": [
    {
     "data": {
      "text/plain": [
       "4/5"
      ]
     },
     "execution_count": 1,
     "metadata": {},
     "output_type": "execute_result"
    }
   ],
   "source": [
    "1/(1/1+1/4)"
   ]
  },
  {
   "cell_type": "code",
   "execution_count": 5,
   "id": "6ee3b3bd-07bf-4797-ae61-b092b9cf20a4",
   "metadata": {},
   "outputs": [
    {
     "data": {
      "text/plain": [
       "-log(a) + log(b)"
      ]
     },
     "execution_count": 5,
     "metadata": {},
     "output_type": "execute_result"
    }
   ],
   "source": [
    "var('a b')\n",
    "simplify(ln(1/a)-ln(1/b))"
   ]
  },
  {
   "cell_type": "code",
   "execution_count": 9,
   "id": "d34827e4-ab5f-4b69-9f94-2f09e75a45a6",
   "metadata": {},
   "outputs": [
    {
     "ename": "TypeError",
     "evalue": "Substitution using function-call syntax and unnamed arguments has been removed. You can use named arguments instead, like EXPR(x=..., y=...)",
     "output_type": "error",
     "traceback": [
      "\u001b[0;31m---------------------------------------------------------------------------\u001b[0m",
      "\u001b[0;31mTypeError\u001b[0m                                 Traceback (most recent call last)",
      "Cell \u001b[0;32mIn [9], line 2\u001b[0m\n\u001b[1;32m      1\u001b[0m var(\u001b[38;5;124m'\u001b[39m\u001b[38;5;124mq t R C V_S\u001b[39m\u001b[38;5;124m'\u001b[39m)\n\u001b[0;32m----> 2\u001b[0m simplify(e\u001b[38;5;241m*\u001b[39m\u001b[38;5;241m*\u001b[39m(\u001b[38;5;241m-\u001b[39mt\u001b[38;5;241m/\u001b[39mR\u001b[38;5;241m*\u001b[39mC)\u001b[38;5;241m==\u001b[39m\u001b[43m(\u001b[49m\u001b[43mC\u001b[49m\u001b[38;5;241;43m*\u001b[39;49m\u001b[43mV_S\u001b[49m\u001b[38;5;241;43m-\u001b[39;49m\u001b[43mq\u001b[49m\u001b[43m)\u001b[49m\u001b[43m(\u001b[49m\u001b[43mC\u001b[49m\u001b[38;5;241;43m*\u001b[39;49m\u001b[43mV_S\u001b[49m\u001b[43m)\u001b[49m, q)\n",
      "File \u001b[0;32m/usr/lib/python3/dist-packages/sage/symbolic/expression.pyx:6144\u001b[0m, in \u001b[0;36msage.symbolic.expression.Expression.__call__ (build/cythonized/sage/symbolic/expression.cpp:61357)\u001b[0;34m()\u001b[0m\n\u001b[1;32m   6142\u001b[0m         z^2 + x^y\n\u001b[1;32m   6143\u001b[0m     \"\"\"\n\u001b[0;32m-> 6144\u001b[0m     return self._parent._call_element_(self, *args, **kwds)\n\u001b[1;32m   6145\u001b[0m \n\u001b[1;32m   6146\u001b[0m def variables(self):\n",
      "File \u001b[0;32m/usr/lib/python3/dist-packages/sage/symbolic/ring.pyx:1049\u001b[0m, in \u001b[0;36msage.symbolic.ring.SymbolicRing._call_element_ (build/cythonized/sage/symbolic/ring.c:10008)\u001b[0;34m()\u001b[0m\n\u001b[1;32m   1047\u001b[0m     d = args[0]\n\u001b[1;32m   1048\u001b[0m else:\n\u001b[0;32m-> 1049\u001b[0m     raise TypeError(\"Substitution using function-call syntax \"\n\u001b[1;32m   1050\u001b[0m                     \"and unnamed arguments has been removed. You \"\n\u001b[1;32m   1051\u001b[0m                     \"can use named arguments instead, like \"\n",
      "\u001b[0;31mTypeError\u001b[0m: Substitution using function-call syntax and unnamed arguments has been removed. You can use named arguments instead, like EXPR(x=..., y=...)"
     ]
    }
   ],
   "source": [
    "var('q t R C V_S')\n",
    "simplify(e^(-t/R*C)==(C*V_S-q)(C*V_S), q)"
   ]
  },
  {
   "cell_type": "code",
   "execution_count": null,
   "id": "20677be8-67d4-487d-b182-aeb0a57e5222",
   "metadata": {},
   "outputs": [],
   "source": []
  }
 ],
 "metadata": {
  "kernelspec": {
   "display_name": "SageMath 9.5",
   "language": "sage",
   "name": "sagemath"
  },
  "language_info": {
   "codemirror_mode": {
    "name": "ipython",
    "version": 3
   },
   "file_extension": ".py",
   "mimetype": "text/x-python",
   "name": "python",
   "nbconvert_exporter": "python",
   "pygments_lexer": "ipython3",
   "version": "3.11.2"
  }
 },
 "nbformat": 4,
 "nbformat_minor": 5
}
