{
 "cells": [
  {
   "cell_type": "markdown",
   "id": "2aea226a-1bb3-4f08-b837-24ca6bc18fc3",
   "metadata": {},
   "source": [
    "# MCV4 Low-pass Filter\n",
    "For MCV4UP (Ms. Gugoiu)\n",
    "\n",
    "https://www.intmath.com/differential-equations/6-rc-circuits.php"
   ]
  },
  {
   "cell_type": "code",
   "execution_count": null,
   "id": "00dd7660-07e8-4a44-ab6f-760d7db5bfa6",
   "metadata": {
    "editable": true,
    "slideshow": {
     "slide_type": ""
    },
    "tags": []
   },
   "outputs": [],
   "source": []
  },
  {
   "cell_type": "code",
   "execution_count": 3,
   "id": "85f874af-1d72-467c-9e23-a7a41c7e88d4",
   "metadata": {},
   "outputs": [
    {
     "data": {
      "text/plain": [
       "[v_out == (r_1*v_c + r_c*v_in)/(r_1 + r_c)]"
      ]
     },
     "execution_count": 3,
     "metadata": {},
     "output_type": "execute_result"
    }
   ],
   "source": [
    "var('v_in v_out v_c r_1 r_c')\n",
    "solve((v_in-v_out)/r_1==-(v_c-v_out)/r_c, v_out)"
   ]
  },
  {
   "cell_type": "code",
   "execution_count": null,
   "id": "da679fb1-79cd-4e17-a109-67d056ce15a5",
   "metadata": {},
   "outputs": [],
   "source": []
  }
 ],
 "metadata": {
  "kernelspec": {
   "display_name": "SageMath 9.5",
   "language": "sage",
   "name": "sagemath"
  },
  "language_info": {
   "codemirror_mode": {
    "name": "ipython",
    "version": 3
   },
   "file_extension": ".py",
   "mimetype": "text/x-python",
   "name": "python",
   "nbconvert_exporter": "python",
   "pygments_lexer": "ipython3",
   "version": "3.11.2"
  }
 },
 "nbformat": 4,
 "nbformat_minor": 5
}
