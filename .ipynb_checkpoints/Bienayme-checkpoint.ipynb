{
 "cells": [
  {
   "cell_type": "markdown",
   "id": "7945907c-96af-4765-97bf-2a9c910254b5",
   "metadata": {},
   "source": [
    "# Bienaymé's Identity/Formula - Proof\n",
    "\n",
    "We want to prove $Var(x)+Var(y)=Var(x+y)$ where $x$ and $y$ are both variables, independent of each other, and of the same distribution. ($x+y=\\Sigma_{i=1}^{n(x)}\\Sigma_{j=1}^{n(y)}(x+y)$)\n",
    "\n",
    "Notes:\n",
    "- $\\equiv$ means \"by definition\"\n",
    "\n",
    "## Lemma $Var(x)=E(x^2)-(E(x))^2$\n",
    "\n",
    "$Var(x)=\\frac{\\Sigma(x_i-\\mu)^2}{N}$ where $N$ is the number of values in the population.\n",
    "\n",
    "$=E((x-\\mu)^2)$\n",
    "\n",
    "$=E(x^2-2x\\mu+\\mu^2)$\n",
    "\n",
    "$=E(x^2)-2\\mu E(x)+E(\\mu^2)$ ($E(ay)=\\frac{\\Sigma_i(ay_i)}{n(y)}=a\\frac{\\Sigma_i(y_i)}{n(y)}=aE(y)$ where $a$ is a constant, and $n(y)$ is the number of values in $y$)\n",
    "\n",
    "$=E(x^2)-2\\mu E(x)+\\mu^2$ (expected value of a constant is itself)\n",
    "\n",
    "$=E(x^2)-2E^2(x)+E^2(x)$ ($E(x)=\\mu$)\n",
    "\n",
    "$=E(x^2)-E^2(x)$\n",
    "\n",
    "## Lemma $E(x)E(y)=E(xy)$ if $x$ and $y$ are independent\n",
    "\n",
    "$E(xy)$\n",
    "\n",
    "$=\\Sigma_{i=1}^{n(x)}\\Sigma_{j=1}^{n(y)}(x_iy_j)P(x_i\\land y_j)$\n",
    "\n",
    "$=\\Sigma_i\\Sigma_j(x_iy_j)P(x_i\\land y_j)$ ($\\Sigma_i\\equiv\\Sigma_{i=1}^{n(x)}$, $\\Sigma_j\\equiv\\Sigma_{j=1}^{n(y)$)\n",
    "\n",
    "$=\\Sigma_i\\Sigma_j(x_iy_j)P(x_i)P(y_j)$\n",
    "\n",
    "$=\\Sigma_i(x_iP(x_i)\\Sigma_j(y_j)P(y_j))$ ($i$ is constant with respect to $j$)\n",
    "\n",
    "$=(\\Sigma_iP(x_i)x_i)(\\Sigma_jP(y_j)y_j)$ ($j$ is constant with respect to $i$)\n",
    "\n",
    "Put another way:\n",
    "\n",
    "$f(x)\\equiv g(x)\\equiv P(x)x$\n",
    "\n",
    "$\\text{map}(f,x)$ is a vector.\n",
    "\n",
    "$\\text{sm}(x)\\equiv(\\text{sum}\\circ\\text{map})(x)\\equiv\\Sigma\\text{map}(x)$\n",
    "\n",
    "$\\text{sm}(f,x\\cdot\\text{map}(g,y))$\n",
    "$=\\text{sm}(g,y)\\cdot\\text{sm}(f,x)$\n",
    "\n",
    "## Proof\n",
    "\n",
    "$Var(x+y)$\n",
    "\n",
    "$=E((x+y)^2)-(E(x+y))^2$ (using the above lemma)\n",
    "\n",
    "$=E(x^2+2xy+y^2)-(E(x)+E(y))^2$\n",
    "\n",
    "$=E(x^2)+2E(xy)+E(y^2)-E^2(x)-2E(x)E(y)-E^2(y)$\n",
    "\n",
    "$=E(x^2)-E^2(x)+E(y^2)-E^2(y)+2E(xy)-2E(x)E(y)$\n",
    "\n",
    "$=Var(x)+Var(y)-2E(xy)-2E(x)E(y)$ (using the above lemma)\n",
    "\n",
    "$=Var(x)+Var(y)$ ($E(xy)=E(x)E(y)$ using the above lemma)"
   ]
  },
  {
   "cell_type": "markdown",
   "id": "1dd1dc7f-0697-429f-993c-46fad290de13",
   "metadata": {},
   "source": [
    "## Worked Example using a Monte Carlo Simulation\n",
    "\n"
   ]
  },
  {
   "cell_type": "code",
   "execution_count": null,
   "id": "4a9d6db2-929f-4198-add4-6e87abad903f",
   "metadata": {},
   "outputs": [],
   "source": [
    "from matplotlib import pyplot as plt\n",
    "import matplotlib.patches as patches\n",
    "\n",
    "\n",
    "def generate_random_points(n=100):\n",
    "    return [choice(range(1, 11)) for _ in range(n)]\n",
    "\n",
    "mean = lambda data: sum(data)/len(data)\n",
    "\n",
    "def variance(data):\n",
    "    m = mean(data)\n",
    "    return sum((value-m)**2 for value in data)/len(data)\n",
    "\n",
    "def covariance(x, y):\n",
    "    assert len(x)==len(y)\n",
    "    m_x = mean(x)\n",
    "    m_y = mean(y)\n",
    "    return sum((x_i-m_x)*(y_i-m_y) for x_i in x for y_i in y)/(len(x)-1)\n",
    "\n",
    "def plot_this_thing(data, xlim=[-10, 20], title=None):\n",
    "    fig, ax = plt.subplots()\n",
    "    plt.hist(data, label='data')\n",
    "    m = mean(data)\n",
    "    print(f'm = {m}')\n",
    "    plt.plot((m, m), (0, 10), marker='o', linewidth=4, label='mean')\n",
    "    plt.legend(loc='lower left')\n",
    "    var = variance(data)\n",
    "    print(f'var = {var}')\n",
    "    rect = patches.Rectangle((m-var, 0), var*2, len(data)/10/2, color='#00ff0066')\n",
    "    ax.add_patch(rect)\n",
    "    variance(data)\n",
    "    plt.xlim(*xlim)\n",
    "    plt.title(title)\n",
    "    plt.show()\n",
    "    plt.close()\n",
    "\n",
    "'''\n",
    "plot_this_thing(generate_random_points(n=40000))\n",
    "'''\n",
    "\n",
    "n = int(1e3)\n",
    "a = generate_random_points(n)\n",
    "b = generate_random_points(n)\n",
    "plot_this_thing(a, title='a (green rectangle is variance)')\n",
    "plot_this_thing(b, title='b (green rectangle is variance)')\n",
    "print(f'cov = {covariance(a, b)}')\n",
    "assert len(a) == len(b)\n",
    "plot_this_thing(list(a[i]+b[j] for i in range(len(a)) for j in range(len(b))), xlim=[-10, 30], title='a+b (green rectangle is variance)')"
   ]
  },
  {
   "cell_type": "code",
   "execution_count": 77,
   "id": "892ba4a6-2f93-40bf-8dc3-8791f1589111",
   "metadata": {},
   "outputs": [
    {
     "data": {
      "text/plain": [
       "4/3"
      ]
     },
     "execution_count": 77,
     "metadata": {},
     "output_type": "execute_result"
    }
   ],
   "source": [
    "variance([1, 2, 3])+variance([4, 5, 6])"
   ]
  },
  {
   "cell_type": "code",
   "execution_count": 79,
   "id": "d531ad4e-fad3-4a01-b442-321ba3c35b7c",
   "metadata": {},
   "outputs": [
    {
     "data": {
      "text/plain": [
       "4/3"
      ]
     },
     "execution_count": 79,
     "metadata": {},
     "output_type": "execute_result"
    }
   ],
   "source": [
    "variance([1+4, 1+5, 1+6, 2+4, 2+5, 2+6, 3+4, 3+5, 3+6])"
   ]
  },
  {
   "cell_type": "code",
   "execution_count": null,
   "id": "d3c61edc-61c8-4955-a8ef-2b09a0c44338",
   "metadata": {},
   "outputs": [],
   "source": []
  }
 ],
 "metadata": {
  "kernelspec": {
   "display_name": "SageMath 9.5",
   "language": "sage",
   "name": "sagemath"
  },
  "language_info": {
   "codemirror_mode": {
    "name": "ipython",
    "version": 3
   },
   "file_extension": ".py",
   "mimetype": "text/x-python",
   "name": "python",
   "nbconvert_exporter": "python",
   "pygments_lexer": "ipython3",
   "version": "3.11.2"
  }
 },
 "nbformat": 4,
 "nbformat_minor": 5
}
