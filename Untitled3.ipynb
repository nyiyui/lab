{
 "cells": [
  {
   "cell_type": "code",
   "execution_count": 4,
   "id": "921b21dd-15cd-4295-b92e-8bf80f52df77",
   "metadata": {},
   "outputs": [
    {
     "data": {
      "text/plain": [
       "48.0127875041833"
      ]
     },
     "execution_count": 4,
     "metadata": {},
     "output_type": "execute_result"
    }
   ],
   "source": [
    "numerical_approx(arctan(12.7/11.43)*180/pi)"
   ]
  },
  {
   "cell_type": "code",
   "execution_count": 5,
   "id": "c6e3cea5-4432-4787-b037-e3d45056b383",
   "metadata": {},
   "outputs": [
    {
     "data": {
      "text/plain": [
       "30.6000000000000"
      ]
     },
     "execution_count": 5,
     "metadata": {},
     "output_type": "execute_result"
    }
   ],
   "source": [
    "0.06*2*255"
   ]
  },
  {
   "cell_type": "code",
   "execution_count": null,
   "id": "1dfaa82e-138c-4076-ba68-7e15c2d996a5",
   "metadata": {},
   "outputs": [],
   "source": []
  }
 ],
 "metadata": {
  "kernelspec": {
   "display_name": "SageMath 9.5",
   "language": "sage",
   "name": "sagemath"
  },
  "language_info": {
   "codemirror_mode": {
    "name": "ipython",
    "version": 3
   },
   "file_extension": ".py",
   "mimetype": "text/x-python",
   "name": "python",
   "nbconvert_exporter": "python",
   "pygments_lexer": "ipython3",
   "version": "3.11.2"
  }
 },
 "nbformat": 4,
 "nbformat_minor": 5
}
